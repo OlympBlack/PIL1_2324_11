{
 "cells": [
  {
   "cell_type": "code",
   "execution_count": null,
   "metadata": {},
   "outputs": [],
   "source": [
    "\n"
   ]
  },
  {
   "cell_type": "code",
   "execution_count": null,
   "metadata": {},
   "outputs": [],
   "source": [
    "from graphviz import Digraph\n",
    "\n",
    "# Créer un nouveau graphe orienté\n",
    "dfd = Digraph('DFD', filename='dfd_site_rencontre', format='png')\n",
    "\n",
    "# Ajouter des entités externes\n",
    "dfd.node('Utilisateur', shape='rectangle')\n",
    "dfd.node('Administrateur', shape='rectangle')\n",
    "\n",
    "# Ajouter des processus\n",
    "dfd.node('P1', 'Inscription / Connexion', shape='circle')\n",
    "dfd.node('P2', 'Gestion du Profil', shape='circle')\n",
    "dfd.node('P3', 'Recherche de Partenaires', shape='circle')\n",
    "dfd.node('P4', 'Communication entre Utilisateurs', shape='circle')\n",
    "dfd.node('P5', 'Administration', shape='circle')\n",
    "\n",
    "# Ajouter des stockages de données\n",
    "dfd.node('D1', 'Base de Données Utilisateurs', shape='rectangle')\n",
    "dfd.node('D2', 'Base de Données des Profils', shape='rectangle')\n",
    "dfd.node('D3', 'Base de Données des Messages', shape='rectangle')\n",
    "\n",
    "# Ajouter des flux de données\n",
    "dfd.edge('Utilisateur', 'P1', 'Inscription / Connexion')\n",
    "dfd.edge('P1', 'D1', 'Stocker Informations Utilisateurs')\n",
    "dfd.edge('P1', 'Utilisateur', 'Confirmation Inscription / Connexion')\n",
    "\n",
    "dfd.edge('Utilisateur', 'P2', 'Mettre à Jour Profil')\n",
    "dfd.edge('P2', 'D2', 'Stocker / Mettre à Jour Profils')\n",
    "dfd.edge('P2', 'Utilisateur', 'Confirmation Mise à Jour')\n",
    "\n",
    "dfd.edge('Utilisateur', 'P3', 'Rechercher Partenaires')\n",
    "dfd.edge('P3', 'D2', 'Requête Profils')\n",
    "dfd.edge('P3', 'Utilisateur', 'Résultats de Recherche')\n",
    "\n",
    "dfd.edge('Utilisateur', 'P4', 'Envoyer Message')\n",
    "dfd.edge('P4', 'D3', 'Stocker Message')\n",
    "dfd.edge('P4', 'Utilisateur', 'Confirmation Envoi')\n",
    "\n",
    "dfd.edge('Administrateur', 'P5', 'Gestion / Modération')\n",
    "dfd.edge('P5', 'D1', 'Accès Base Utilisateurs')\n",
    "dfd.edge('P5', 'D2', 'Accès Base Profils')\n",
    "dfd.edge('P5', 'D3', 'Accès Base Messages')\n",
    "\n",
    "# Afficher le diagramme\n",
    "dfd.view()\n",
    "\n"
   ]
  },
  {
   "cell_type": "code",
   "execution_count": null,
   "metadata": {},
   "outputs": [],
   "source": []
  },
  {
   "cell_type": "code",
   "execution_count": null,
   "metadata": {},
   "outputs": [],
   "source": []
  },
  {
   "cell_type": "code",
   "execution_count": null,
   "metadata": {},
   "outputs": [],
   "source": []
  },
  {
   "cell_type": "code",
   "execution_count": null,
   "metadata": {},
   "outputs": [],
   "source": []
  },
  {
   "cell_type": "markdown",
   "metadata": {},
   "source": []
  },
  {
   "cell_type": "markdown",
   "metadata": {},
   "source": []
  },
  {
   "cell_type": "code",
   "execution_count": null,
   "metadata": {},
   "outputs": [],
   "source": []
  },
  {
   "cell_type": "code",
   "execution_count": null,
   "metadata": {},
   "outputs": [],
   "source": []
  },
  {
   "cell_type": "code",
   "execution_count": null,
   "metadata": {},
   "outputs": [],
   "source": []
  },
  {
   "cell_type": "code",
   "execution_count": null,
   "metadata": {},
   "outputs": [],
   "source": []
  },
  {
   "cell_type": "code",
   "execution_count": null,
   "metadata": {},
   "outputs": [],
   "source": []
  },
  {
   "cell_type": "code",
   "execution_count": null,
   "metadata": {},
   "outputs": [],
   "source": [
    "\n",
    "\n",
    "\n",
    "\n"
   ]
  }
 ],
 "metadata": {
  "language_info": {
   "name": "python"
  }
 },
 "nbformat": 4,
 "nbformat_minor": 2
}
